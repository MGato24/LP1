{
 "cells": [
  {
   "cell_type": "markdown",
   "metadata": {},
   "source": [
    "### EJERCICIO EN CLASE - SEMANA 7:\n",
    "Usted desea simular un juego y para ello crea la función **ESCALANDO** que depende del **número de intentos** (N = 100), **torpeza** (T = 1) y **tamaño del edificio** (P = 60). Valores por defecto entre paréntesis.\n",
    "El juego consiste en tratar de subir por las escaleras al último piso de un edificio de P pisos empezando desde el lobby (piso 0), para ello:  \n",
    "* Lanza un dado. Si sale 1 ó 2, baja un piso. Si sale 3, 4 ó 5, sube un piso. Si sale 6, vuelve a lanzar el dado y sube tantos pisos como indique el dado.  \n",
    "* Tiene hasta N intentos de lanzar el dado para llegar al último piso   \n",
    "* En cada intento, puede caer al primer piso con una probabilidad de T%  \n",
    "* El edificio no tiene sótanos, por lo que no hay pisos negativos  \n",
    "\n",
    "La función devuelve a qué piso llego."
   ]
  },
  {
   "cell_type": "code",
   "execution_count": 1,
   "metadata": {},
   "outputs": [
    {
     "data": {
      "text/plain": [
       "1"
      ]
     },
     "execution_count": 1,
     "metadata": {},
     "output_type": "execute_result"
    }
   ],
   "source": [
    "#Priemero creamos la función de: \"Lanzar un dado\" utilizando el módulo random, y el método randind() para obtener una valor aleatorio\n",
    "\n",
    "import random #Creo que este módulo si está permitido usar en el curso \n",
    "\n",
    "def lanzar_dado():\n",
    "    return random.randint(1,6)\n",
    "\n",
    "lanzar_dado() #Lo probamos"
   ]
  },
  {
   "cell_type": "code",
   "execution_count": 2,
   "metadata": {},
   "outputs": [],
   "source": [
    "#Definimos nuestras constantes:\n",
    "N = 100 #Número de intentos\n",
    "T = 1 #Torpeza, en %\n",
    "P = 60 #Tamaño del edificio"
   ]
  },
  {
   "cell_type": "code",
   "execution_count": 3,
   "metadata": {},
   "outputs": [],
   "source": [
    "#Creamos la función indicada en el ejercicio, esta vez, el esqueleto base:\n",
    "\n",
    "def escalando(N,T,P): #Esta función va a depender de las 3 constantes anteriormente señaladas\n",
    "\n",
    "    intentos = 0 #Variable auxiliar, intentos que realiza el jugador\n",
    "    piso_actual = 0 #Variable auxiliar, piso actual en el que se encuentra el jugador (0 == lobby)\n",
    "\n",
    "    while intentos < N:\n",
    "\n",
    "        dado = lanzar_dado()\n",
    "\n",
    "        if dado in [1,2]: #Si obtienes 1 o 2\n",
    "            piso_actual = piso_actual - 1\n",
    "\n",
    "        elif dado in [3,4,5]: #Si obtienes 3, 4 o 5\n",
    "            piso_actual = piso_actual + 1\n",
    "\n",
    "        elif dado in [6]: #Si obtienes 6\n",
    "            a = lanzar_dado() #Lanzamos el dado nuevamente como indica el ejercicio\n",
    "            piso_actual = piso_actual + a\n",
    "\n",
    "        intentos = intentos + 1 #Acabas de jugar un intento.\n",
    "\n",
    "    return [piso_actual,intentos] #Retornamos estas dos variables de interés en una lista"
   ]
  },
  {
   "cell_type": "code",
   "execution_count": 4,
   "metadata": {},
   "outputs": [
    {
     "name": "stdout",
     "output_type": "stream",
     "text": [
      "Llegaste al piso 79 en 100 intentos\n"
     ]
    }
   ],
   "source": [
    "#Procedemos a probar el código :)\n",
    "jugando = escalando(N,T,P)\n",
    "print(f\"Llegaste al piso {jugando[0]} en {jugando[1]} intentos\")"
   ]
  },
  {
   "cell_type": "code",
   "execution_count": 5,
   "metadata": {},
   "outputs": [],
   "source": [
    "#El código funciona correctamente, procedemos a incluir los siguientes puntos del ejercicio dentro de la función:\n",
    "\n",
    "def escalando(N,T,P): #Esta función va a depender de las 3 constantes anteriormente señaladas\n",
    "\n",
    "    intentos = 0 #Variable auxiliar, intentos que realiza el jugador\n",
    "    piso_actual = 0 #Variable auxiliar, piso actual en el que se encuentra el jugador (0 == lobby)\n",
    "\n",
    "    while intentos < N:\n",
    "\n",
    "        if piso_actual < 0: #Comprobamos si se encuentra en un piso negativo\n",
    "            piso_actual = 0 #De ser así igualamos a 0, no existen pisos negativos\n",
    "        \n",
    "        if piso_actual >= P: #Si llegó al ultimo piso o se pasó antes de los 100 intentos\n",
    "            break #Rompemos el ciclo\n",
    "\n",
    "        else: #Si no se cumple lo anaterior seguimos jugando:\n",
    "\n",
    "            #Como existe una posibilidad de caer al piso 1 en cada turno, lo integramos aquí\n",
    "            caer_al_piso_1 = random.randint(1,100) #Escoger un valor entre 1 y 100 aleatoriamente\n",
    "            n_torpeza = range(1,T+1) #T de 100 valores en los cuales caes al piso 1\n",
    "\n",
    "            if caer_al_piso_1 in n_torpeza: #Si estás dentro de ese T% de posbilidades de caer al psio 1:\n",
    "                piso_actual = 1 \n",
    "                intentos = intentos + 1 #Aumentamos en 1 el número de intentos jugados\n",
    "            \n",
    "            else: #Y si no, seguimos jugando :)\n",
    "                 \n",
    "                dado = lanzar_dado()\n",
    "\n",
    "                if dado in [1,2]: #Si obtienes 1 o 2\n",
    "                    piso_actual = piso_actual - 1\n",
    "\n",
    "                elif dado in [3,4,5]: #Si obtienes 3, 4 o 5\n",
    "                    piso_actual = piso_actual + 1\n",
    "\n",
    "                elif dado in [6]: #Si obtienes 6\n",
    "                    a = lanzar_dado() #Lanzamos el dado nuevamente como indica el ejercicio\n",
    "                    piso_actual = piso_actual + a\n",
    "\n",
    "                intentos = intentos + 1 #Acabas de jugar un intento.\n",
    "\n",
    "    return [piso_actual,intentos] #Retornamos estas dos variables de interés en una lista"
   ]
  },
  {
   "cell_type": "code",
   "execution_count": 8,
   "metadata": {},
   "outputs": [
    {
     "name": "stdout",
     "output_type": "stream",
     "text": [
      "Llegaste al piso 52 en 100 intentos\n"
     ]
    }
   ],
   "source": [
    "#La función ya está completa de acuerdo al ejercicio. Procedemos a probarlo\n",
    "jugando = escalando(N,T,P)\n",
    "print(f\"Llegaste al piso {jugando[0]} en {jugando[1]} intentos\")"
   ]
  }
 ],
 "metadata": {
  "kernelspec": {
   "display_name": "Python 3.10.4 64-bit",
   "language": "python",
   "name": "python3"
  },
  "language_info": {
   "codemirror_mode": {
    "name": "ipython",
    "version": 3
   },
   "file_extension": ".py",
   "mimetype": "text/x-python",
   "name": "python",
   "nbconvert_exporter": "python",
   "pygments_lexer": "ipython3",
   "version": "3.10.4"
  },
  "orig_nbformat": 4,
  "vscode": {
   "interpreter": {
    "hash": "2469a70536e4d2335a2ea8907942d0699c37342a371ac185bdb5b0aa6f073890"
   }
  }
 },
 "nbformat": 4,
 "nbformat_minor": 2
}
