{
 "cells": [
  {
   "cell_type": "markdown",
   "metadata": {},
   "source": [
    "### EJERCICIO EN CLASE - SEMANA 13\n",
    "Ejecutar un programa que contenga una lista de números primos (no divisibles entre si). Como resultado se pide que entregue la lista de números primos y el valor promedio. \n",
    "\n",
    "Para este ejercicio voy a considerar que el programa solicite una lista de números al usuario."
   ]
  },
  {
   "cell_type": "code",
   "execution_count": 1,
   "metadata": {},
   "outputs": [],
   "source": [
    "#Creamos una función que solicite números y los guarde en una lista:\n",
    "\n",
    "def crear_lista(n): #Esta función dependera de la cantidad de números que deseamos agregar a la lista\n",
    "    lista_num = []\n",
    "\n",
    "    if n != 0:\n",
    "        for i in range(n):\n",
    "            num = int(input(\"ingrese el {}° número ENTERO POSITIVO\".format(i+1)))\n",
    "\n",
    "            while num < 0: #Por si se ingresa un número negativo:\n",
    "                num = int(input(\"El número debe ser positivo, ingrese el adecuado: \"))\n",
    "                \n",
    "            lista_num.append(num) #Agregamos el número a la lista\n",
    "    \n",
    "    return lista_num"
   ]
  },
  {
   "cell_type": "code",
   "execution_count": 2,
   "metadata": {},
   "outputs": [],
   "source": [
    "#Creamos una función que seleccione los números primos de la lista que creamos anteriormente:\n",
    "\n",
    "def seleccionar_primos(lista): #Esta función requerirá que le pases una lista\n",
    "    r = [] #Lista resultante, con los números primos de la lista ingresada\n",
    "\n",
    "    divisores = 0 #variable auxiliar que contabiliza la cantidad de divisores\n",
    "\n",
    "    for u in lista: #Recorremos los elementos de la lista inicial\n",
    "\n",
    "        for a in range(2, u+1): # a tomará los valores con los que didiremos cada elemento de la lista\n",
    "\n",
    "            if u % a == 0: # Si la división es entera:\n",
    "                divisores = divisores + 1 #Aumentamos en 1 la cantidad de divisores\n",
    "\n",
    "        if divisores == 1: #Si tiene 1 solo divisor, es primo \n",
    "            r.append(u) #Agregamos ese valor a la lista resulante\n",
    "\n",
    "        divisores = 0 #Volemos a resetear el contador de divisores\n",
    "    \n",
    "    while 0 in r: #De haber, removemos el valor 0 de la lista resultante, porque 0 no es primo.\n",
    "        r.remove(0) \n",
    "\n",
    "    while 1 in r: #De haber, removemos el valor 1 de la lista resultante, porque 0 no es primo.\n",
    "        r.remove(1)\n",
    "\n",
    "    return r #Retornamos la lista"
   ]
  },
  {
   "cell_type": "code",
   "execution_count": 3,
   "metadata": {},
   "outputs": [
    {
     "name": "stdout",
     "output_type": "stream",
     "text": [
      "Tu lista es: [12, 13, 14]\n",
      "Los números primos de tu lista son: [13]\n",
      "El promedio de los números primos de tu lista es 13.0\n"
     ]
    }
   ],
   "source": [
    "#Teniendo todo listo procedemos a armar la solución del ejercicio:\n",
    "\n",
    "#Solicitamos la cantidad de números a ingresar:\n",
    "#Para evitar hacer una función de tratameinto de errores, fuera del ejercicio, supondremos que el usuario digitará un valor numérico entero.\n",
    "n = int(input(\"Indicar cantidad de números a ingresar: \"))\n",
    "\n",
    "lista_usuario = crear_lista(n) #Creamos la lista del usuario\n",
    "print(f\"Tu lista es: {lista_usuario}\")\n",
    "\n",
    "\n",
    "if len(lista_usuario) > 0: #Si la lista del usuario no está vacía\n",
    "\n",
    "    primos = seleccionar_primos(lista_usuario) #Seleccionamos los primos de la lista del usuario\n",
    "\n",
    "    if len(primos) > 0: #Nos aseguramos que hallan primos en tu lista\n",
    "        print(f\"Los números primos de tu lista son: {primos}\")\n",
    "        print(f\"El promedio de los números primos de tu lista es {sum(primos)/len(primos)}\")\n",
    "    \n",
    "    else:\n",
    "        print(\"No hay primos en tu lista de números\")\n",
    "\n",
    "else:\n",
    "    print(\"Tu lista de números está vacía\")"
   ]
  }
 ],
 "metadata": {
  "kernelspec": {
   "display_name": "Python 3.10.4 64-bit",
   "language": "python",
   "name": "python3"
  },
  "language_info": {
   "codemirror_mode": {
    "name": "ipython",
    "version": 3
   },
   "file_extension": ".py",
   "mimetype": "text/x-python",
   "name": "python",
   "nbconvert_exporter": "python",
   "pygments_lexer": "ipython3",
   "version": "3.10.4"
  },
  "orig_nbformat": 4,
  "vscode": {
   "interpreter": {
    "hash": "2469a70536e4d2335a2ea8907942d0699c37342a371ac185bdb5b0aa6f073890"
   }
  }
 },
 "nbformat": 4,
 "nbformat_minor": 2
}
