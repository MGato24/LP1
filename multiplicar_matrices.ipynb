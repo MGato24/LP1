{
 "cells": [
  {
   "cell_type": "markdown",
   "metadata": {},
   "source": [
    "### EEJERCICIO 1 BÁSICO - SEMANA 13\n",
    "#### PRODUCTO DE MATRICES:\n",
    "Para multiplicar 2 matrices es necesario que el número de **columnas** de la primera matriz sea igual al número de **filas** de la segunda matriz.\n",
    "\n",
    "Realizaremos un programa en la que debamos ingresar 2 matrices y nos devuelva como resultado el producto de estas."
   ]
  },
  {
   "cell_type": "code",
   "execution_count": 1,
   "metadata": {},
   "outputs": [],
   "source": [
    "#Primero creamos una función que nos permite agregar una matriz:\n",
    "\n",
    "def agregar_matriz():\n",
    "\n",
    "    matriz = []\n",
    "    filas    = int(input(\"DIMENSION: Ingrese el número de filas: \"))\n",
    "    columnas = int(input(\"DIMENSION: Ingrese el número de columnas: \"))\n",
    "\n",
    "    for i in range(filas):\n",
    "        matriz.append([])\n",
    "        for j in range(columnas):\n",
    "            matriz[i].append(int(input(\"[{}][{}]: \".format(i+1,j+1))))\n",
    "\n",
    "    return matriz"
   ]
  },
  {
   "cell_type": "code",
   "execution_count": 2,
   "metadata": {},
   "outputs": [],
   "source": [
    "#Ahora creamos una función que nos permita multiplicar dos matrices:\n",
    "#Esta función dependerá que le pases dos matrices que se puedan multiplicar, es decir, columnas de la primera igual a las filas de la segunda.\n",
    "\n",
    "def multiplicar_matrices(A,B): \n",
    "    C = []\n",
    "\n",
    "    #Empezamos a crear las dimensiones de la matriz resultante\n",
    "    for i in range(len(A)):\n",
    "        C.append([])\n",
    "        for j in range(len(B[0])):\n",
    "            C[i].append(0)\n",
    "\n",
    "    #Darle valor a los elementos de la matriz resultante\n",
    "    for i in range(len(A)):\n",
    "        for j in range(len(B[0])):\n",
    "            for k in range(len(A[0])):\n",
    "                C[i][j] = C[i][j] + A[i][k] * B[k][j]\n",
    "    \n",
    "    return C"
   ]
  },
  {
   "cell_type": "code",
   "execution_count": 3,
   "metadata": {},
   "outputs": [
    {
     "name": "stdout",
     "output_type": "stream",
     "text": [
      "Primera matriz:\n",
      "[[1, 2, 3], [4, 5, 6]]\n",
      "Segunda matriz:\n",
      "[[1, 2], [3, 4], [5, 6]]\n",
      "El producto es:\n",
      "[[22, 28], [49, 64]]\n"
     ]
    }
   ],
   "source": [
    "#Ahora solo queda armar el ejercicio:\n",
    "print(\"Primera matriz:\")\n",
    "matriz_1 = agregar_matriz()\n",
    "print(matriz_1)\n",
    "\n",
    "print(\"Segunda matriz:\")\n",
    "matriz_2 = agregar_matriz()\n",
    "print(matriz_2)\n",
    "\n",
    "if len(matriz_1[0]) == len(matriz_2):\n",
    "    matriz_resultado = multiplicar_matrices(matriz_1,matriz_2)\n",
    "    print(f\"El producto es:\\n{matriz_resultado}\")\n",
    "\n",
    "else:\n",
    "    print(\"Las matrices no se pueden multiplicar\")"
   ]
  }
 ],
 "metadata": {
  "kernelspec": {
   "display_name": "Python 3.10.4 64-bit",
   "language": "python",
   "name": "python3"
  },
  "language_info": {
   "codemirror_mode": {
    "name": "ipython",
    "version": 3
   },
   "file_extension": ".py",
   "mimetype": "text/x-python",
   "name": "python",
   "nbconvert_exporter": "python",
   "pygments_lexer": "ipython3",
   "version": "3.10.4"
  },
  "orig_nbformat": 4,
  "vscode": {
   "interpreter": {
    "hash": "2469a70536e4d2335a2ea8907942d0699c37342a371ac185bdb5b0aa6f073890"
   }
  }
 },
 "nbformat": 4,
 "nbformat_minor": 2
}
